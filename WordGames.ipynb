{
  "cells": [
    {
      "cell_type": "code",
      "execution_count": 1,
      "metadata": {
        "colab": {
          "base_uri": "https://localhost:8080/"
        },
        "id": "yHdFm-Nj7F6j",
        "outputId": "01ee44e6-8147-4d7a-944c-3fad04168044"
      },
      "outputs": [
        {
          "output_type": "stream",
          "name": "stdout",
          "text": [
            "Looking in indexes: https://pypi.org/simple, https://us-python.pkg.dev/colab-wheels/public/simple/\n",
            "Collecting emoji\n",
            "  Downloading emoji-1.7.0.tar.gz (175 kB)\n",
            "\u001b[K     |████████████████████████████████| 175 kB 10.8 MB/s \n",
            "\u001b[?25hBuilding wheels for collected packages: emoji\n",
            "  Building wheel for emoji (setup.py) ... \u001b[?25l\u001b[?25hdone\n",
            "  Created wheel for emoji: filename=emoji-1.7.0-py3-none-any.whl size=171046 sha256=0875897b0fba9aac85ec2e8d3d19dbfff17ff451b20ac5f64fe69a6953de1c64\n",
            "  Stored in directory: /root/.cache/pip/wheels/8a/4e/b6/57b01db010d17ef6ea9b40300af725ef3e210cb1acfb7ac8b6\n",
            "Successfully built emoji\n",
            "Installing collected packages: emoji\n",
            "Successfully installed emoji-1.7.0\n"
          ]
        }
      ],
      "source": [
        "!pip install emoji"
      ]
    },
    {
      "cell_type": "code",
      "execution_count": 2,
      "metadata": {
        "id": "t2qd45FFAtjD"
      },
      "outputs": [],
      "source": [
        "import requests\n",
        "from pprint import pprint\n",
        "import json\n",
        "import random\n",
        "from IPython.display import clear_output \n",
        "import time\n",
        "from emoji import emojize"
      ]
    },
    {
      "cell_type": "code",
      "execution_count": 3,
      "metadata": {
        "id": "Y54qVyVRAX7y"
      },
      "outputs": [],
      "source": [
        "def getWordList(siteList):\n",
        "  baseWordList = []\n",
        "  for site in siteList:\n",
        "    response = requests.get(site)\n",
        "\n",
        "    temp = \"\"\n",
        "    for word in response.text:\n",
        "      if not word == \"\\n\":\n",
        "        temp += word\n",
        "      else:\n",
        "        baseWordList.append(temp)\n",
        "        temp = \"\"\n",
        "  wordList = [word for word in baseWordList if len(word) > 3]\n",
        "  print(len(wordList))\n",
        "  return wordList"
      ]
    },
    {
      "cell_type": "code",
      "execution_count": 4,
      "metadata": {
        "colab": {
          "base_uri": "https://localhost:8080/"
        },
        "id": "l4cbpZAiKOLv",
        "outputId": "e0568d1d-e59a-4c23-ecbe-58a951ddff69"
      },
      "outputs": [
        {
          "output_type": "stream",
          "name": "stdout",
          "text": [
            "7700\n",
            "7700\n"
          ]
        }
      ],
      "source": [
        "siteList = [\n",
        "            \"https://raw.githubusercontent.com/first20hours/google-10000-english/master/google-10000-english-usa-no-swears-medium.txt\",\n",
        "            \"https://raw.githubusercontent.com/first20hours/google-10000-english/master/google-10000-english-usa-no-swears-long.txt\"\n",
        "]\n",
        "wordList = getWordList(siteList)\n",
        "print(len(wordList))"
      ]
    },
    {
      "cell_type": "code",
      "execution_count": 5,
      "metadata": {
        "id": "qVQHICcuNKlM"
      },
      "outputs": [],
      "source": [
        "def hangman(wordList, wrong=8):\n",
        "  wrongGuessesLeft = wrong\n",
        "  word = wordList[random.randint(0,len(wordList))]\n",
        "  message = \"\"\n",
        "  correctLetters = []\n",
        "  guessed = []\n",
        "  for letter in word:\n",
        "    correctLetters.append(\"_\")\n",
        "  while wrongGuessesLeft != 0:\n",
        "    time.sleep(1)\n",
        "    clear_output()\n",
        "    print(\"Enter one letter to guess a letter or a word to guess the word\")\n",
        "    print(\"Letters guessed:\", guessed, \"\\n\")\n",
        "    print(message)\n",
        "    for letter in correctLetters:\n",
        "      print(letter + \" \", end=\"\")\n",
        "    if not \"_\" in correctLetters:\n",
        "      print(\"\\nYou got all the letters! The word is\", word)\n",
        "      break\n",
        "    print(\"\\nWrong guesses left:\", wrongGuessesLeft)\n",
        "    guess = input(\"Guess: \")\n",
        "    guess = guess.lower()\n",
        "    if len(guess) == 1:\n",
        "      guessed.append(guess)\n",
        "      if guess in word:\n",
        "        message = \"Good guess!\"\n",
        "        for index in range(len(word)):\n",
        "          if guess == word[index]:\n",
        "            correctLetters[index] = guess\n",
        "      else:\n",
        "        message = \"\\\"\" + guess +\"\\\" is not in the word\"\n",
        "        wrongGuessesLeft -= 1\n",
        "    else:\n",
        "      if guess == word:\n",
        "        break\n",
        "      else:\n",
        "        message = \"That was not the word\"\n",
        "        wrongGuessesLeft -= 1 \n",
        "    print()\n",
        "  clear_output()\n",
        "  if wrongGuessesLeft == 0:\n",
        "    print(\"You are out of guesses. The word was\", word)\n",
        "    print(\"\\n\\n\")\n",
        "    for letter in correctLetters:\n",
        "      print(letter + \" \", end=\"\")\n",
        "  else:\n",
        "    print(\"Correct! The word is\", word)"
      ]
    },
    {
      "cell_type": "code",
      "execution_count": 6,
      "metadata": {
        "colab": {
          "base_uri": "https://localhost:8080/"
        },
        "id": "m1nEdAeyYKZ0",
        "outputId": "0434ba96-faa7-4410-98a4-7afd65776261"
      },
      "outputs": [
        {
          "output_type": "stream",
          "name": "stdout",
          "text": [
            "You are out of guesses. The word was conflicts\n",
            "\n",
            "\n",
            "\n",
            "_ o n _ l i _ t _ "
          ]
        }
      ],
      "source": [
        "hangman(wordList)"
      ]
    },
    {
      "cell_type": "code",
      "execution_count": 7,
      "metadata": {
        "colab": {
          "base_uri": "https://localhost:8080/"
        },
        "id": "8khqtfyp6ViG",
        "outputId": "f183d5cd-473b-48f5-ea46-5dd831f3e0a6"
      },
      "outputs": [
        {
          "output_type": "stream",
          "name": "stdout",
          "text": [
            "7700\n",
            "🟩 ⬛ 🟨\n"
          ]
        }
      ],
      "source": [
        "fivesList = [word for word in getWordList(siteList) if len(word) == 5]\n",
        "g = emojize(\":green_square:\")\n",
        "b = emojize(\":black_large_square:\")\n",
        "y = emojize(\":yellow_square:\")\n",
        "print(g, b, y)"
      ]
    },
    {
      "cell_type": "code",
      "execution_count": 8,
      "metadata": {
        "id": "b0mjffhu67aW"
      },
      "outputs": [],
      "source": [
        "def wordle(wordList):\n",
        "  word = wordList[random.randint(0,len(wordList))]\n",
        "  guessed = []\n",
        "  guesses = []\n",
        "  win = [1 for i in range(len(word))]\n",
        "  correct = [0 for i in range(len(word))]\n",
        "  wrongGuessesLeft = 6\n",
        "  guessNum = 1\n",
        "  message = \"\"\n",
        "  while wrongGuessesLeft != 0:\n",
        "    time.sleep(1)\n",
        "    clear_output()\n",
        "    print(\"Wordle\")\n",
        "    print(\"This is a \" + str(len(word)) + \" long word\")\n",
        "    if message != \"\":\n",
        "      print(message)\n",
        "    for index in range(len(guessed)):\n",
        "      for letter in guessed[index]:\n",
        "        print(letter, end=\"\")\n",
        "      print(\" \" + guesses[index].upper())\n",
        "    guess = input(\"Guess: \")\n",
        "    guess = guess.lower()\n",
        "    if len(guess) != len(word):\n",
        "      message = \"Please enter a \" + str(len(word)) + \" letter word\"\n",
        "      continue\n",
        "    else:\n",
        "      emojis = []\n",
        "      guesses.append(guess)\n",
        "      for index in range(len(word)):\n",
        "        if guess[index] == word[index]:\n",
        "          emojis.append(g)\n",
        "          correct[index] = 1\n",
        "        elif guess[index] in word:\n",
        "          emojis.append(y)\n",
        "        else:\n",
        "          emojis.append(b)\n",
        "      guessed.append(emojis)\n",
        "      if correct == win:\n",
        "        message = \"You won in \" + str(guessNum) + \" tries!\\nThe word was \" + word \n",
        "        break\n",
        "      else:\n",
        "        wrongGuessesLeft -= 1\n",
        "        guessNum += 1\n",
        "    message=\"\"\n",
        "  time.sleep(1)\n",
        "  clear_output()\n",
        "  if wrongGuessesLeft == 0:\n",
        "    message = \"You lost! The word was \" + word\n",
        "  print(\"Wordle\")\n",
        "  print(\"This is a \" + str(len(word)) + \" long word\")\n",
        "  for index in range(len(guessed)):\n",
        "    for letter in guessed[index]:\n",
        "      print(letter, end=\"\")\n",
        "    print(\" \" + guesses[index].upper())\n",
        "  print(message)"
      ]
    },
    {
      "cell_type": "code",
      "execution_count": 9,
      "metadata": {
        "colab": {
          "base_uri": "https://localhost:8080/"
        },
        "id": "6g31ZeIQM8bI",
        "outputId": "857553d0-cf8f-41ca-a741-3b0497809e30"
      },
      "outputs": [
        {
          "output_type": "stream",
          "name": "stdout",
          "text": [
            "Wordle\n",
            "This is a 5 long word\n",
            "⬛🟨⬛⬛⬛ HOUSE\n",
            "⬛⬛🟨⬛⬛ TROUT\n",
            "⬛⬛⬛🟩⬛ CAPOT\n",
            "🟩⬛⬛🟩🟨 IGLOO\n",
            "🟩🟩🟩🟩🟩 INBOX\n",
            "You won in 5 tries!\n",
            "The word was inbox\n"
          ]
        }
      ],
      "source": [
        "wordle(fivesList)\n",
        "# Use fivesList for classic wordle"
      ]
    }
  ],
  "metadata": {
    "colab": {
      "collapsed_sections": [],
      "name": "Hangman.ipynb",
      "provenance": []
    },
    "kernelspec": {
      "display_name": "Python 3",
      "name": "python3"
    },
    "language_info": {
      "name": "python"
    }
  },
  "nbformat": 4,
  "nbformat_minor": 0
}